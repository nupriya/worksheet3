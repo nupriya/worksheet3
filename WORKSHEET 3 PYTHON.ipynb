{
 "cells": [
  {
   "cell_type": "markdown",
   "id": "e62262ce",
   "metadata": {},
   "source": [
    "11. Write a python function print pyramid of stars. Level of the pyramid should be taken as an input from the "
   ]
  },
  {
   "cell_type": "code",
   "execution_count": 1,
   "id": "43bb7ebf",
   "metadata": {},
   "outputs": [
    {
     "name": "stdout",
     "output_type": "stream",
     "text": [
      "    * \r\n",
      "   * * \r\n",
      "  * * * \r\n",
      " * * * * \r\n",
      "* * * * * \r\n"
     ]
    }
   ],
   "source": [
    "# Function to demonstrate printing pattern triangle\n",
    "def triangle(n):\n",
    "     \n",
    "    # number of spaces\n",
    "    k = n - 1\n",
    " \n",
    "    # outer loop to handle number of rows\n",
    "    for i in range(0, n):\n",
    "     \n",
    "        # inner loop to handle number spaces\n",
    "        # values changing acc. to requirement\n",
    "        for j in range(0, k):\n",
    "            print(end=\" \")\n",
    "     \n",
    "        # decrementing k after each loop\n",
    "        k = k - 1\n",
    "     \n",
    "        # inner loop to handle number of columns\n",
    "        # values changing acc. to outer loop\n",
    "        for j in range(0, i+1):\n",
    "         \n",
    "            # printing stars\n",
    "            print(\"* \", end=\"\")\n",
    "      # ending line after each row\n",
    "        print(\"\\r\")\n",
    " \n",
    "#drive code\n",
    "n = 5\n",
    "triangle(n)"
   ]
  },
  {
   "cell_type": "markdown",
   "id": "380f1d33",
   "metadata": {},
   "source": [
    "12.Write a python function print Hourglass pattern. "
   ]
  },
  {
   "cell_type": "code",
   "execution_count": 2,
   "id": "7f15b381",
   "metadata": {},
   "outputs": [
    {
     "name": "stdout",
     "output_type": "stream",
     "text": [
      "Enter number of rows: 5\n",
      "Generated Hourglass Pattern is: \n",
      "*********\n",
      " *******\n",
      "  *****\n",
      "   ***\n",
      "    *\n",
      "   ***\n",
      "  *****\n",
      " *******\n",
      "*********\n"
     ]
    }
   ],
   "source": [
    "# Hourglass pattern in Python\n",
    "\n",
    "# Reading number of rows\n",
    "row = int(input(\"Enter number of rows: \"))\n",
    "\n",
    "print(\"Generated Hourglass Pattern is: \")\n",
    "# Upper-half\n",
    "for i in range(row, 0, -1):\n",
    "    for j in range(row-i):\n",
    "        print(\" \", end=\"\")\n",
    "    for j in range(1, 2*i):\n",
    "        print(\"*\", end=\"\")\n",
    "    print()\n",
    "\n",
    "# Lower-half\n",
    "for i in range(2, row+1):\n",
    "    for j in range(row-i):\n",
    "        print(\" \", end=\"\")\n",
    "    for j in range(1, 2*i):\n",
    "        print(\"*\", end=\"\")\n",
    "    print()"
   ]
  },
  {
   "cell_type": "markdown",
   "id": "c497b0d9",
   "metadata": {},
   "source": [
    "13.Write a python function to print Pascal’s Triangle. The number of levels in the triangle must be taken as input  \n",
    "by the user."
   ]
  },
  {
   "cell_type": "code",
   "execution_count": 3,
   "id": "0f4dc5a0",
   "metadata": {},
   "outputs": [
    {
     "name": "stdout",
     "output_type": "stream",
     "text": [
      "1 \n",
      "1 1 \n",
      "1 2 1 \n",
      "1 3 3 1 \n",
      "1 4 6 4 1 \n",
      "1 5 10 10 5 1 \n",
      "1 6 15 20 15 6 1 \n"
     ]
    }
   ],
   "source": [
    "def print_pascal_triangle(size):\n",
    "    for i in range(0, size):\n",
    "        for j in range(0, i + 1):\n",
    "            print(decide_number(i, j), end=\" \")\n",
    "        print()\n",
    "\n",
    "\n",
    "def decide_number(n, k):\n",
    "    num = 1\n",
    "    if k > n - k:\n",
    "        k = n - k\n",
    "    for i in range(0, k):\n",
    "        num = num * (n - i)\n",
    "        num = num // (i + 1)\n",
    "    return num\n",
    "\n",
    "# set rows\n",
    "rows = 7\n",
    "print_pascal_triangle(rows)"
   ]
  },
  {
   "cell_type": "markdown",
   "id": "be09de64",
   "metadata": {},
   "source": [
    "14.Write a python function to print Diamond Shaped Pattern shown below. Function must take integer input \n",
    "which represents the number of stars in the middle most line."
   ]
  },
  {
   "cell_type": "code",
   "execution_count": 4,
   "id": "814ed771",
   "metadata": {},
   "outputs": [
    {
     "name": "stdout",
     "output_type": "stream",
     "text": [
      "    *\n",
      "   ***\n",
      "  *****\n",
      " *******\n",
      "*********\n",
      " *******\n",
      "  *****\n",
      "   ***\n",
      "    *\n"
     ]
    }
   ],
   "source": [
    "# Function to print\n",
    "# Diamond shape\n",
    "def Diamond(rows):\n",
    "    n = 0\n",
    "    for i in range(1, rows + 1):\n",
    "        # loop to print spaces\n",
    "        for j in range (1, (rows - i) + 1):\n",
    "            print(end = \" \")\n",
    "          \n",
    "        # loop to print star\n",
    "        while n != (2 * i - 1):\n",
    "            print(\"*\", end = \"\")\n",
    "            n = n + 1\n",
    "        n = 0\n",
    "          \n",
    "        # line break\n",
    "        print() \n",
    "  \n",
    "    k = 1\n",
    "    n = 1\n",
    "    for i in range(1, rows):\n",
    "        # loop to print spaces\n",
    "        for j in range (1, k + 1):\n",
    "            print(end = \" \")\n",
    "        k = k + 1\n",
    "          \n",
    "        # loop to print star\n",
    "        while n <= (2 * (rows - i) - 1):\n",
    "            print(\"*\", end = \"\")\n",
    "            n = n + 1\n",
    "        n = 1\n",
    "        print()\n",
    "  \n",
    "# Driver Code\n",
    "# number of rows input\n",
    "rows = 5\n",
    "Diamond(rows)"
   ]
  },
  {
   "cell_type": "markdown",
   "id": "507c2cfd",
   "metadata": {},
   "source": [
    "15.Write a python function to print Diamond Shaped Character Pattern shown below. Function must take integer \n",
    "input within range 1 to 26, which represents the rank of the alphabet."
   ]
  },
  {
   "cell_type": "code",
   "execution_count": 5,
   "id": "bd14d4fa",
   "metadata": {},
   "outputs": [
    {
     "name": "stdout",
     "output_type": "stream",
     "text": [
      "    A\n",
      "   ABC\n",
      "  ABCDE\n",
      " ABCDEFG\n",
      "ABCDEFGHI\n",
      " ABCDEFG\n",
      "  ABCDE\n",
      "   ABC\n",
      "    A\n"
     ]
    }
   ],
   "source": [
    "# diamond alphabet pattern program\n",
    "n = 5\n",
    "\n",
    "# Upper triangle shape\n",
    "for i in range(n):\n",
    "    for j in range(n - i - 1):\n",
    "        print(' ', end='')\n",
    "    for j in range(2 * i + 1):\n",
    "        print(chr(65 + j), end='')\n",
    "    print()\n",
    "\n",
    "# Lower triangle shape \n",
    "for i in range(n - 1):\n",
    "    for j in range(i + 1):\n",
    "        print(' ', end='')\n",
    "    for j in range(2*(n - i - 1) - 1):\n",
    "        print(chr(65 + j), end='')\n",
    "    print()"
   ]
  },
  {
   "cell_type": "code",
   "execution_count": null,
   "id": "255ce40a",
   "metadata": {},
   "outputs": [],
   "source": []
  }
 ],
 "metadata": {
  "kernelspec": {
   "display_name": "Python 3 (ipykernel)",
   "language": "python",
   "name": "python3"
  },
  "language_info": {
   "codemirror_mode": {
    "name": "ipython",
    "version": 3
   },
   "file_extension": ".py",
   "mimetype": "text/x-python",
   "name": "python",
   "nbconvert_exporter": "python",
   "pygments_lexer": "ipython3",
   "version": "3.9.12"
  }
 },
 "nbformat": 4,
 "nbformat_minor": 5
}
